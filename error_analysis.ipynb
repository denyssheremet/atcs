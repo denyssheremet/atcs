{
 "cells": [
  {
   "cell_type": "markdown",
   "id": "d6ea7eb9-c465-4b75-9a2e-0b628083d2dc",
   "metadata": {},
   "source": [
    "# Error Analysis\n",
    "We first set up the functions, and then do the analysis. \n",
    "\n",
    "## Setup"
   ]
  },
  {
   "cell_type": "code",
   "execution_count": 46,
   "id": "8b279ca9-214c-4bb2-8dd4-55271ead53d8",
   "metadata": {},
   "outputs": [],
   "source": [
    "import torch\n",
    "from preprocessing import preprocess_item, get_unique_tokens, token_to_index, setup_glove\n",
    "from modules import FullModel, EmbeddingModule, CombinationModule\n"
   ]
  },
  {
   "cell_type": "code",
   "execution_count": 35,
   "id": "e6c6eb35-2011-4c18-8537-374d16624176",
   "metadata": {},
   "outputs": [],
   "source": [
    "# setup glove\n",
    "all_unique_toks = get_unique_tokens(None, None, None) # can be None because unique_tokens are loaded from pickle\n",
    "glove_vectors, glove_vocab = setup_glove(all_unique_toks)"
   ]
  },
  {
   "cell_type": "code",
   "execution_count": 59,
   "id": "e984fa3a-307f-4128-b8e3-5fb181a6a46d",
   "metadata": {},
   "outputs": [
    {
     "name": "stdout",
     "output_type": "stream",
     "text": [
      "text: \n",
      "{'premise': 'Two men sitting in the sun', 'hypothesis': 'Nobody is sitting in the shade', 'label': 1}\n",
      "\n",
      "preprocessed:\n",
      "(tensor([[34378, 19979, 29446, 16457, 32987, 31890]], device='cuda:0'), tensor([[21583, 17072, 29446, 16457, 32987, 28751]], device='cuda:0'), tensor([1], device='cuda:0'))\n"
     ]
    }
   ],
   "source": [
    "def build_example(premise, hypothesis, label):\n",
    "    # make example\n",
    "    example_text = {\n",
    "        'premise': premise,\n",
    "        'hypothesis': hypothesis,\n",
    "        'label': label\n",
    "    }\n",
    "    # tokenize it\n",
    "    example_tok = example_text.copy()\n",
    "    example_tok = preprocess_item(example_tok)\n",
    "    example_prep = token_to_index(example_tok, glove_vocab)\n",
    "    \n",
    "    prem_tok = torch.tensor(example_prep['premise']).cuda().unsqueeze(0)\n",
    "    hyp_tok = torch.tensor(example_prep['hypothesis']).cuda().unsqueeze(0)\n",
    "    lab_tok = torch.tensor(example_prep['label']).cuda().unsqueeze(0)\n",
    "    \n",
    "    return example_text, (prem_tok, hyp_tok, lab_tok)\n",
    "    \n",
    "\n",
    "premise = \"Two men sitting in the sun\"\n",
    "hypothesis = \"Nobody is sitting in the shade\"\n",
    "# 0: entailment, 1: neutral, 2: contradiction\n",
    "label = 1 \n",
    "\n",
    "example_text, example_prep = build_example(premise, hypothesis, label)\n",
    "print(f'text: \\n{example_text}')\n",
    "print(f'\\npreprocessed:\\n{example_prep}')"
   ]
  },
  {
   "cell_type": "code",
   "execution_count": 60,
   "id": "e5580641-af96-4848-a683-5d0283594ae8",
   "metadata": {},
   "outputs": [],
   "source": [
    "# initialize model\n",
    "model = FullModel(\n",
    "    EmbeddingModule(glove_vectors, all_unique_toks),\n",
    "    None,\n",
    "    CombinationModule(),\n",
    "    None\n",
    ").cuda()\n",
    "model.load_model(\"checkpoints/pooledbilstm.pickle\")\n"
   ]
  },
  {
   "cell_type": "code",
   "execution_count": 85,
   "id": "c660041b-bfb3-4a14-b204-56772f173a47",
   "metadata": {},
   "outputs": [],
   "source": [
    "def print_prediction(pred, targ=None):\n",
    "    d = ['Entailment', 'Neutral', 'Contradiction']\n",
    "    s = f\"Prediction:   {d[pred]}\"\n",
    "    if targ:\n",
    "        s += f'\\nGround truth: {d[targ]}'\n",
    "    print(s)"
   ]
  },
  {
   "cell_type": "markdown",
   "id": "d9a504a2-6e90-4d8c-be0a-5afd8b6e084a",
   "metadata": {},
   "source": [
    "## Analysis\n",
    "First, let the model predict the first example. "
   ]
  },
  {
   "cell_type": "code",
   "execution_count": 92,
   "id": "0d0da4df-f0a8-416e-a21d-3c83a7e38657",
   "metadata": {},
   "outputs": [
    {
     "data": {
      "text/plain": [
       "{'premise': 'Two men sitting in the sun',\n",
       " 'hypothesis': 'Nobody is sitting in the shade',\n",
       " 'label': 1}"
      ]
     },
     "execution_count": 92,
     "metadata": {},
     "output_type": "execute_result"
    }
   ],
   "source": [
    "example_text"
   ]
  },
  {
   "cell_type": "code",
   "execution_count": 89,
   "id": "915a485a-7e55-4544-8cc0-8978a3c71f23",
   "metadata": {},
   "outputs": [
    {
     "name": "stdout",
     "output_type": "stream",
     "text": [
      "Prediction:   Entailment\n",
      "Ground truth: Neutral\n"
     ]
    }
   ],
   "source": [
    "# test the prediction\n",
    "pred = model(example_prep).argmax()\n",
    "print_prediction(pred, example_prep[2])"
   ]
  },
  {
   "cell_type": "markdown",
   "id": "8677037a-efd8-4836-9ec6-54f20cdbc584",
   "metadata": {},
   "source": [
    "We can see here that ...\n"
   ]
  },
  {
   "cell_type": "code",
   "execution_count": 91,
   "id": "9f37b07e-f023-4a17-8362-4bd757212cd0",
   "metadata": {},
   "outputs": [
    {
     "name": "stdout",
     "output_type": "stream",
     "text": [
      "Prediction:   Entailment\n",
      "Ground truth: Neutral\n"
     ]
    }
   ],
   "source": [
    "ex2, ex2_prep = build_example(\n",
    "    \"A man is walking a dog\",\n",
    "    \"No cat is outside\",\n",
    "    1\n",
    ")\n",
    "pred2 = model(ex2_prep).argmax()\n",
    "print_prediction(pred, ex2_prep[2])"
   ]
  },
  {
   "cell_type": "markdown",
   "id": "bf3ea59f-5593-410c-990d-8107da4dc901",
   "metadata": {},
   "source": [
    "We can see here that ...\n"
   ]
  },
  {
   "cell_type": "code",
   "execution_count": null,
   "id": "90f8bf6c-96f4-4766-a7a6-8cf1a1092611",
   "metadata": {},
   "outputs": [],
   "source": []
  }
 ],
 "metadata": {
  "kernelspec": {
   "display_name": "Python 3 (ipykernel)",
   "language": "python",
   "name": "python3"
  },
  "language_info": {
   "codemirror_mode": {
    "name": "ipython",
    "version": 3
   },
   "file_extension": ".py",
   "mimetype": "text/x-python",
   "name": "python",
   "nbconvert_exporter": "python",
   "pygments_lexer": "ipython3",
   "version": "3.9.16"
  }
 },
 "nbformat": 4,
 "nbformat_minor": 5
}
